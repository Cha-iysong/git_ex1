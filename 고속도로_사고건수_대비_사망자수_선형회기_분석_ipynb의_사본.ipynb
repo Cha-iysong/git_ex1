{
  "nbformat": 4,
  "nbformat_minor": 0,
  "metadata": {
    "colab": {
      "provenance": [],
      "authorship_tag": "ABX9TyO6SaCh+6HiSlloYrCmHMyA",
      "include_colab_link": true
    },
    "kernelspec": {
      "name": "python3",
      "display_name": "Python 3"
    },
    "language_info": {
      "name": "python"
    }
  },
  "cells": [
    {
      "cell_type": "markdown",
      "metadata": {
        "id": "view-in-github",
        "colab_type": "text"
      },
      "source": [
        "<a href=\"https://colab.research.google.com/github/Cha-iysong/git_ex1/blob/main/%EA%B3%A0%EC%86%8D%EB%8F%84%EB%A1%9C_%EC%82%AC%EA%B3%A0%EA%B1%B4%EC%88%98_%EB%8C%80%EB%B9%84_%EC%82%AC%EB%A7%9D%EC%9E%90%EC%88%98_%EC%84%A0%ED%98%95%ED%9A%8C%EA%B8%B0_%EB%B6%84%EC%84%9D_ipynb%EC%9D%98_%EC%82%AC%EB%B3%B8.ipynb\" target=\"_parent\"><img src=\"https://colab.research.google.com/assets/colab-badge.svg\" alt=\"Open In Colab\"/></a>"
      ]
    },
    {
      "cell_type": "markdown",
      "source": [
        "##라이블러리 선언 및 가져오기"
      ],
      "metadata": {
        "id": "0P0BgEf5G-Oa"
      }
    },
    {
      "cell_type": "code",
      "source": [
        "import matplotlib.pyplot as plt\n",
        "import numpy as np"
      ],
      "metadata": {
        "id": "zcvqf2CxG-lS"
      },
      "execution_count": null,
      "outputs": []
    },
    {
      "cell_type": "markdown",
      "source": [
        "#데이터 셋 설정"
      ],
      "metadata": {
        "id": "5fyhgZPhHH0u"
      }
    },
    {
      "cell_type": "code",
      "source": [
        "data=[[4.347,0.273],[4.146,0.248],[4.079,0.252],[4.223,0.206],[4.039,0.223]]\n",
        "x=[i[0] for i in data]\n",
        "y=[i[1] for i in data]"
      ],
      "metadata": {
        "id": "3NPYf4u-HIAD"
      },
      "execution_count": null,
      "outputs": []
    },
    {
      "cell_type": "markdown",
      "source": [
        "#그래프로 나타내기"
      ],
      "metadata": {
        "id": "cuYGtX4BI83j"
      }
    },
    {
      "cell_type": "code",
      "source": [
        "plt.Figure(figsize=(5,5))\n",
        "plt.scatter(x,y)\n",
        "plt.show()"
      ],
      "metadata": {
        "colab": {
          "base_uri": "https://localhost:8080/",
          "height": 265
        },
        "id": "C8815s77I9Br",
        "outputId": "d9dd3cc7-c913-48c7-e4bc-aee89fd3625e"
      },
      "execution_count": null,
      "outputs": [
        {
          "output_type": "display_data",
          "data": {
            "text/plain": [
              "<Figure size 432x288 with 1 Axes>"
            ],
            "image/png": "[encoded data removed]"
          },
          "metadata": {
            "needs_background": "light"
          }
        }
      ]
    },
    {
      "cell_type": "markdown",
      "source": [
        "\n",
        "#넘파이 배열로 변환 및 기울기 절편 초기화"
      ],
      "metadata": {
        "id": "3y-Z912JJBXL"
      }
    },
    {
      "cell_type": "code",
      "source": [
        "x_data = np.array(x)\n",
        "y_data = np.array(y)\n",
        "\n",
        "a = 0\n",
        "b = 0"
      ],
      "metadata": {
        "id": "JlzU1tFVJBer"
      },
      "execution_count": null,
      "outputs": []
    },
    {
      "cell_type": "markdown",
      "source": [
        "#학습률 및 반복횟수 설정"
      ],
      "metadata": {
        "id": "ClSvPCxiJMzW"
      }
    },
    {
      "cell_type": "code",
      "source": [
        "lr = 0.05\n",
        "epochs = 2001"
      ],
      "metadata": {
        "id": "qgP5cp22JNCi"
      },
      "execution_count": null,
      "outputs": []
    },
    {
      "cell_type": "markdown",
      "source": [
        "#경사하강법 실행"
      ],
      "metadata": {
        "id": "_p9gG967JR0z"
      }
    },
    {
      "cell_type": "code",
      "source": [
        "for i in range(epochs):\n",
        "  y_pred = a * x_data + b\n",
        "  error = y_data - y_pred\n",
        "\n",
        "  a_diff = -(1/len(x_data)) * sum(x_data * (error))\n",
        "  b_diff = -(1/len(x_data)) * sum(y_data - y_pred)\n",
        "\n",
        "  a = a - lr * a_diff\n",
        "  b = b - lr * b_diff\n",
        "\n",
        "  if i % 100 == 0:\n",
        "    print(\"epoch = %.f, 기울기 = %.04f, 절편 = %.04f, 에러 = %.04f\" % (i, a, b, error.mean()))"
      ],
      "metadata": {
        "colab": {
          "base_uri": "https://localhost:8080/"
        },
        "id": "sf9ff38FJR_6",
        "outputId": "45dd4b35-c94b-4bc7-c98b-7541c97601c0"
      },
      "execution_count": null,
      "outputs": [
        {
          "output_type": "stream",
          "name": "stdout",
          "text": [
            "epoch = 0, 기울기 = 0.0501, 절편 = 0.0120, 에러 = 0.2404\n",
            "epoch = 100, 기울기 = 0.0547, 절편 = 0.0127, 에러 = -0.0001\n",
            "epoch = 200, 기울기 = 0.0548, 절편 = 0.0123, 에러 = -0.0001\n",
            "epoch = 300, 기울기 = 0.0549, 절편 = 0.0119, 에러 = -0.0001\n",
            "epoch = 400, 기울기 = 0.0549, 절편 = 0.0115, 에러 = -0.0001\n",
            "epoch = 500, 기울기 = 0.0550, 절편 = 0.0112, 에러 = -0.0001\n",
            "epoch = 600, 기울기 = 0.0551, 절편 = 0.0108, 에러 = -0.0001\n",
            "epoch = 700, 기울기 = 0.0552, 절편 = 0.0104, 에러 = -0.0001\n",
            "epoch = 800, 기울기 = 0.0553, 절편 = 0.0100, 에러 = -0.0001\n",
            "epoch = 900, 기울기 = 0.0554, 절편 = 0.0096, 에러 = -0.0001\n",
            "epoch = 1000, 기울기 = 0.0555, 절편 = 0.0093, 에러 = -0.0001\n",
            "epoch = 1100, 기울기 = 0.0556, 절편 = 0.0089, 에러 = -0.0001\n",
            "epoch = 1200, 기울기 = 0.0557, 절편 = 0.0085, 에러 = -0.0001\n",
            "epoch = 1300, 기울기 = 0.0558, 절편 = 0.0082, 에러 = -0.0001\n",
            "epoch = 1400, 기울기 = 0.0558, 절편 = 0.0078, 에러 = -0.0001\n",
            "epoch = 1500, 기울기 = 0.0559, 절편 = 0.0074, 에러 = -0.0001\n",
            "epoch = 1600, 기울기 = 0.0560, 절편 = 0.0070, 에러 = -0.0001\n",
            "epoch = 1700, 기울기 = 0.0561, 절편 = 0.0067, 에러 = -0.0001\n",
            "epoch = 1800, 기울기 = 0.0562, 절편 = 0.0063, 에러 = -0.0001\n",
            "epoch = 1900, 기울기 = 0.0563, 절편 = 0.0059, 에러 = -0.0001\n",
            "epoch = 2000, 기울기 = 0.0564, 절편 = 0.0056, 에러 = -0.0001\n"
          ]
        }
      ]
    },
    {
      "cell_type": "markdown",
      "source": [
        "#그래프 출력"
      ],
      "metadata": {
        "id": "htdd4U9rJgDP"
      }
    },
    {
      "cell_type": "code",
      "source": [
        "plt.scatter(x,y)\n",
        "plt.plot([min(x),max(x)],[min(y_pred),max(y_pred)])\n",
        "plt.show()"
      ],
      "metadata": {
        "colab": {
          "base_uri": "https://localhost:8080/",
          "height": 265
        },
        "id": "Hdmn4MM6JgLD",
        "outputId": "47d1bd32-56be-41ad-b65b-4b279b40e145"
      },
      "execution_count": null,
      "outputs": [
        {
          "output_type": "display_data",
          "data": {
            "text/plain": [
              "<Figure size 432x288 with 1 Axes>"
            ],
            "image/png": "[encoded data removed]"
          },
          "metadata": {
            "needs_background": "light"
          }
        }
      ]
    },
    {
      "cell_type": "code",
      "source": [],
      "metadata": {
        "id": "PXvP0kZBJqMz"
      },
      "execution_count": null,
      "outputs": []
    }
  ]
}