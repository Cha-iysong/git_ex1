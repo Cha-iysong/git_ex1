{
  "nbformat": 4,
  "nbformat_minor": 0,
  "metadata": {
    "colab": {
      "provenance": [],
      "authorship_tag": "ABX9TyP0IhNFr+cHA5+v+R8woFwh",
      "include_colab_link": true
    },
    "kernelspec": {
      "name": "python3",
      "display_name": "Python 3"
    },
    "language_info": {
      "name": "python"
    }
  },
  "cells": [
    {
      "cell_type": "markdown",
      "metadata": {
        "id": "view-in-github",
        "colab_type": "text"
      },
      "source": [
        "<a href=\"https://colab.research.google.com/github/Cha-iysong/git_ex1/blob/main/%EA%B3%A0%EC%86%8D%EB%8F%84%EB%A1%9C_%EC%82%AC%EA%B3%A0%EA%B1%B4%EC%88%98_%EB%8C%80%EB%B9%84_%EC%82%AC%EB%A7%9D%EC%9E%90%EC%88%98_%EC%84%A0%ED%98%95%ED%9A%8C%EA%B8%B0_%EB%B6%84%EC%84%9D_ipynb.ipynb\" target=\"_parent\"><img src=\"https://colab.research.google.com/assets/colab-badge.svg\" alt=\"Open In Colab\"/></a>"
      ]
    },
    {
      "cell_type": "markdown",
      "source": [
        "##라이블러리 선언 및 가져오기"
      ],
      "metadata": {
        "id": "0P0BgEf5G-Oa"
      }
    },
    {
      "cell_type": "code",
      "source": [
        "import matplotlib.pyplot as plt\n",
        "import numpy as np"
      ],
      "metadata": {
        "id": "zcvqf2CxG-lS"
      },
      "execution_count": null,
      "outputs": []
    },
    {
      "cell_type": "markdown",
      "source": [
        "#데이터 셋 설정"
      ],
      "metadata": {
        "id": "5fyhgZPhHH0u"
      }
    },
    {
      "cell_type": "code",
      "source": [
        "data=[[4.347,0.273],[4.146,0.248],[4.079,0.252],[4.223,0.206],[4.039,0.223]]\n",
        "x=[i[0] for i in data]\n",
        "y=[i[1] for i in data]"
      ],
      "metadata": {
        "id": "3NPYf4u-HIAD"
      },
      "execution_count": null,
      "outputs": []
    },
    {
      "cell_type": "markdown",
      "source": [
        "#그래프로 나타내기"
      ],
      "metadata": {
        "id": "cuYGtX4BI83j"
      }
    },
    {
      "cell_type": "code",
      "source": [
        "plt.figure(figsize=(5,5))\n",
        "plt.scatter(x,y)\n",
        "plt.show()"
      ],
      "metadata": {
        "colab": {
          "base_uri": "https://localhost:8080/",
          "height": 320
        },
        "id": "C8815s77I9Br",
        "outputId": "b79e9ccb-8911-413c-91cb-0a3a32623f2e"
      },
      "execution_count": null,
      "outputs": [
        {
          "output_type": "display_data",
          "data": {
            "text/plain": [
              "<Figure size 360x360 with 1 Axes>"
            ],
            "image/png": "[encoded data removed]"
          },
          "metadata": {
            "needs_background": "light"
          }
        }
      ]
    },
    {
      "cell_type": "markdown",
      "source": [
        "\n",
        "#넘파이 배열로 변환 및 기울기 절편 초기화"
      ],
      "metadata": {
        "id": "3y-Z912JJBXL"
      }
    },
    {
      "cell_type": "code",
      "source": [
        "x_data = np.array(x)\n",
        "y_data = np.array(y)\n",
        "\n",
        "a = 0\n",
        "b = 0"
      ],
      "metadata": {
        "id": "JlzU1tFVJBer"
      },
      "execution_count": null,
      "outputs": []
    },
    {
      "cell_type": "markdown",
      "source": [
        "#학습률 및 반복횟수 설정"
      ],
      "metadata": {
        "id": "ClSvPCxiJMzW"
      }
    },
    {
      "cell_type": "code",
      "source": [
        "lr = 0.05\n",
        "epochs = 2001"
      ],
      "metadata": {
        "id": "qgP5cp22JNCi"
      },
      "execution_count": null,
      "outputs": []
    },
    {
      "cell_type": "markdown",
      "source": [
        "#경사하강법 실행"
      ],
      "metadata": {
        "id": "_p9gG967JR0z"
      }
    },
    {
      "cell_type": "code",
      "source": [
        "for i in range(epochs):\n",
        "  y_pred = a * x_data + b\n",
        "  error = y_data - y_pred\n",
        "\n",
        "  a_diff = -(1/len(x_data)) * sum(x_data * (error))\n",
        "  b_diff = -(1/len(x_data)) * sum(y_data - y_pred)\n",
        "\n",
        "  a = a - lr * a_diff\n",
        "  b = b - lr * b_diff\n",
        "\n",
        "  if i % 100 == 0:\n",
        "    print(\"epoch = %.f, 기울기 = %.04f, 절편 = %.04f, 에러 = %.04f\" % (i, a, b, error.mean()))"
      ],
      "metadata": {
        "colab": {
          "base_uri": "https://localhost:8080/"
        },
        "id": "sf9ff38FJR_6",
        "outputId": "bede99aa-d15e-4b99-be4f-19ded849d421"
      },
      "execution_count": null,
      "outputs": [
        {
          "output_type": "stream",
          "name": "stdout",
          "text": [
            "epoch = 0, 기울기 = 0.0564, 절편 = 0.0056, 에러 = -0.0001\n",
            "epoch = 100, 기울기 = 0.0565, 절편 = 0.0052, 에러 = -0.0001\n",
            "epoch = 200, 기울기 = 0.0565, 절편 = 0.0049, 에러 = -0.0001\n",
            "epoch = 300, 기울기 = 0.0566, 절편 = 0.0045, 에러 = -0.0001\n",
            "epoch = 400, 기울기 = 0.0567, 절편 = 0.0041, 에러 = -0.0001\n",
            "epoch = 500, 기울기 = 0.0568, 절편 = 0.0038, 에러 = -0.0001\n",
            "epoch = 600, 기울기 = 0.0569, 절편 = 0.0034, 에러 = -0.0001\n",
            "epoch = 700, 기울기 = 0.0570, 절편 = 0.0031, 에러 = -0.0001\n",
            "epoch = 800, 기울기 = 0.0571, 절편 = 0.0027, 에러 = -0.0001\n",
            "epoch = 900, 기울기 = 0.0571, 절편 = 0.0024, 에러 = -0.0001\n",
            "epoch = 1000, 기울기 = 0.0572, 절편 = 0.0020, 에러 = -0.0001\n",
            "epoch = 1100, 기울기 = 0.0573, 절편 = 0.0017, 에러 = -0.0001\n",
            "epoch = 1200, 기울기 = 0.0574, 절편 = 0.0013, 에러 = -0.0001\n",
            "epoch = 1300, 기울기 = 0.0575, 절편 = 0.0010, 에러 = -0.0001\n",
            "epoch = 1400, 기울기 = 0.0576, 절편 = 0.0006, 에러 = -0.0001\n",
            "epoch = 1500, 기울기 = 0.0576, 절편 = 0.0003, 에러 = -0.0001\n",
            "epoch = 1600, 기울기 = 0.0577, 절편 = -0.0001, 에러 = -0.0001\n",
            "epoch = 1700, 기울기 = 0.0578, 절편 = -0.0004, 에러 = -0.0001\n",
            "epoch = 1800, 기울기 = 0.0579, 절편 = -0.0008, 에러 = -0.0001\n",
            "epoch = 1900, 기울기 = 0.0580, 절편 = -0.0011, 에러 = -0.0001\n",
            "epoch = 2000, 기울기 = 0.0581, 절편 = -0.0015, 에러 = -0.0001\n"
          ]
        }
      ]
    },
    {
      "cell_type": "markdown",
      "source": [
        "#그래프 출력"
      ],
      "metadata": {
        "id": "htdd4U9rJgDP"
      }
    },
    {
      "cell_type": "code",
      "source": [
        "plt.scatter(x,y)\n",
        "plt.plot([min(x),max(x)],[min(y_pred),max(y_pred)])\n",
        "plt.show()"
      ],
      "metadata": {
        "colab": {
          "base_uri": "https://localhost:8080/",
          "height": 265
        },
        "id": "Hdmn4MM6JgLD",
        "outputId": "bd866a29-3d09-494c-882c-58994fd5a09d"
      },
      "execution_count": null,
      "outputs": [
        {
          "output_type": "display_data",
          "data": {
            "text/plain": [
              "<Figure size 432x288 with 1 Axes>"
            ],
            "image/png": "[encoded data removed]"
          },
          "metadata": {
            "needs_background": "light"
          }
        }
      ]
    }
  ]
}